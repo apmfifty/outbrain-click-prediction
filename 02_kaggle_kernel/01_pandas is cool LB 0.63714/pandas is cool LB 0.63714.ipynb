{
 "cells": [
  {
   "cell_type": "markdown",
   "metadata": {},
   "source": [
    "# [pandas is cool! LB: 0.63714](https://www.kaggle.com/clustifier/pandas-is-cool-lb-0-63714/code)\n",
    "\n",
    "#### Questions: \n",
    "``` \n",
    "ad_likelihood['likelihood'] = (ad_likelihood['sum'] + 12*M) / (12 + ad_likelihood['count'])\n",
    "```\n",
    "#### Answers:\n",
    "```\n",
    "1. Regularization\n",
    "2. When Ads show a lot of times, 'likelihood' tends to `ad_likelihood['sum'] / ad_likelihood['count']`\n",
    "3. When Ads show few times, 'likelihood' tends to mean of all ads;\n",
    "```"
   ]
  },
  {
   "cell_type": "code",
   "execution_count": 2,
   "metadata": {},
   "outputs": [
    {
     "name": "stdout",
     "output_type": "stream",
     "text": [
      "display_id,ad_id,clicked\n",
      "1,42337,0\n",
      "1,139684,0\n",
      "1,144739,1\n",
      "1,156824,0\n",
      "1,279295,0\n",
      "1,296965,0\n",
      "2,125211,0\n",
      "2,156535,0\n",
      "2,169564,0\n",
      "\n",
      "display_id,ad_id\n",
      "16874594,66758\n",
      "16874594,150083\n",
      "16874594,162754\n",
      "16874594,170392\n",
      "16874594,172888\n",
      "16874594,180797\n",
      "16874595,8846\n",
      "16874595,30609\n",
      "16874595,143982\n"
     ]
    }
   ],
   "source": [
    "%%bash\n",
    "head ../../data/unzip_data/clicks_train.csv\n",
    "echo \"\"\n",
    "head ../../data/unzip_data/clicks_test.csv"
   ]
  },
  {
   "cell_type": "code",
   "execution_count": 5,
   "metadata": {},
   "outputs": [
    {
     "name": "stderr",
     "output_type": "stream",
     "text": [
      "2018-06-03 07:36:01,100 : INFO : get ad_likelihood done\n",
      "2018-06-03 07:36:05,843 : INFO : read test done\n",
      "2018-06-03 07:36:08,908 : INFO : merge test & likelihood done\n"
     ]
    }
   ],
   "source": [
    "import numpy as np\n",
    "import pandas as pd\n",
    "import logging\n",
    "logging.basicConfig(format='%(asctime)s : %(levelname)s : %(message)s', level=logging.INFO)\n",
    "\n",
    "logging.info(\"start\")\n",
    "dtypes={'ad_id':np.int32,\"clicked\":np.int8}\n",
    "train=pd.read_csv(\"../../data/unzip_data/clicks_train.csv\",usecols=['ad_id','clicked'],dtype=dtypes)\n",
    "logging.info(\"read train done\")\n",
    "ad_likelihood=train.groupby('ad_id').clicked.agg([\"mean\",\"sum\",\"count\"]).reset_index()\n",
    "M=train.clicked.mean()\n",
    "L=12\n",
    "ad_likelihood['likelihood']=(ad_likelihood[\"sum\"]+L*M)/(ad_likelihood[\"count\"]+L)\n",
    "logging.info(\"get ad_likelihood done\")\n",
    "\n",
    "test=pd.read_csv(\"../../data/unzip_data/clicks_test.csv\").astype(np.int32)\n",
    "logging.info(\"read test done\")\n",
    "test=test.merge(ad_likelihood[['ad_id','likelihood']],on='ad_id',how='left').fillna(M)\n",
    "logging.info(\"merge test & likelihood done\")\n",
    "\n",
    "test.sort_values(['display_id','likelihood'],inplace=True,ascending=False)\n",
    "subm=test.groupby('display_id').ad_id.apply(lambda x:\" \".join(map(str,x))).reset_index()\n",
    "subm.to_csv(\"subm_pengju.csv\",index=False)\n"
   ]
  },
  {
   "cell_type": "code",
   "execution_count": 6,
   "metadata": {},
   "outputs": [
    {
     "name": "stdout",
     "output_type": "stream",
     "text": [
      "Successfully submitted to Outbrain Click Prediction"
     ]
    }
   ],
   "source": [
    "%%bash\n",
    "kaggle competitions submit -c outbrain-click-prediction -f subm_pengju.csv -m \"init submission: pandas is cool! LB: 0.63714 by pengju change type of ad_id from np.float to np.int32; add log module;https://www.kaggle.com/clustifier/pandas-is-cool-lb-0-63714/code\""
   ]
  },
  {
   "cell_type": "markdown",
   "metadata": {},
   "source": [
    "## Kernel same as Kaggle"
   ]
  },
  {
   "cell_type": "code",
   "execution_count": null,
   "metadata": {},
   "outputs": [],
   "source": [
    "import pandas as pd\n",
    "import numpy as np\n",
    "\n",
    "dtypes = {'ad_id': np.float32, 'clicked': np.int8}\n",
    "\n",
    "train = pd.read_csv(\"../../data/unzip_data/clicks_train.csv\", usecols=['ad_id','clicked'], dtype=dtypes)\n",
    "\n",
    "ad_likelihood = train.groupby('ad_id').clicked.agg(['count','sum','mean']).reset_index()\n",
    "M = train.clicked.mean()\n",
    "del train\n",
    "\n",
    "ad_likelihood['likelihood'] = (ad_likelihood['sum'] + 12*M) / (12 + ad_likelihood['count'])\n",
    "\n",
    "test = pd.read_csv(\"../../data/unzip_data/clicks_test.csv\")\n",
    "test = test.merge(ad_likelihood, how='left')\n",
    "test.likelihood.fillna(M, inplace=True)\n",
    "\n",
    "test.sort_values(['display_id','likelihood'], inplace=True, ascending=False)\n",
    "subm = test.groupby('display_id').ad_id.apply(lambda x: \" \".join(map(str,x))).reset_index()\n",
    "subm.to_csv(\"subm.csv\", index=False)"
   ]
  },
  {
   "cell_type": "code",
   "execution_count": null,
   "metadata": {},
   "outputs": [],
   "source": [
    "%%bash\n",
    "kaggle competitions submit -c outbrain-click-prediction -f subm.csv -m \"init submission: pandas is cool! LB: 0.63714\""
   ]
  },
  {
   "cell_type": "markdown",
   "metadata": {},
   "source": [
    "## Summary\n",
    "\n",
    "1. This method can be taken as one way of feature engineering to get parameter `likelihood`\n",
    "2. It provides one useful way to handle mean value:\n",
    "    - high frequency: tends to the original value\n",
    "    - low frequency: tends to the global mean value\n",
    "    - none : use the global mean value as the default \n",
    "3. We learn the command line method to commit results.     \n",
    "4. We learn the groupby method to concat result using space."
   ]
  },
  {
   "cell_type": "code",
   "execution_count": null,
   "metadata": {},
   "outputs": [],
   "source": [
    "import matplotlib.pyplot as plt\n",
    "ad_likelihood['count'].hist()\n",
    "plt.show()"
   ]
  },
  {
   "cell_type": "code",
   "execution_count": null,
   "metadata": {},
   "outputs": [],
   "source": [
    "test.head()"
   ]
  },
  {
   "cell_type": "code",
   "execution_count": null,
   "metadata": {},
   "outputs": [],
   "source": [
    "subm.head()"
   ]
  },
  {
   "cell_type": "code",
   "execution_count": null,
   "metadata": {},
   "outputs": [],
   "source": []
  }
 ],
 "metadata": {
  "kernelspec": {
   "display_name": "Python 3",
   "language": "python",
   "name": "python3"
  },
  "language_info": {
   "codemirror_mode": {
    "name": "ipython",
    "version": 3
   },
   "file_extension": ".py",
   "mimetype": "text/x-python",
   "name": "python",
   "nbconvert_exporter": "python",
   "pygments_lexer": "ipython3",
   "version": "3.6.0"
  }
 },
 "nbformat": 4,
 "nbformat_minor": 2
}
