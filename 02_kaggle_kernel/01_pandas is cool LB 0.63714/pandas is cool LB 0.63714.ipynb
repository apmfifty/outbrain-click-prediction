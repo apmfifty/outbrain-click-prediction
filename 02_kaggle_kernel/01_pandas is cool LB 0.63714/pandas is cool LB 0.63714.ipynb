{
 "cells": [
  {
   "cell_type": "markdown",
   "metadata": {},
   "source": [
    "# [pandas is cool! LB: 0.63714](https://www.kaggle.com/clustifier/pandas-is-cool-lb-0-63714/code)\n",
    "\n",
    "#### Questions: \n",
    "``` \n",
    "ad_likelihood['likelihood'] = (ad_likelihood['sum'] + 12*M) / (12 + ad_likelihood['count'])\n",
    "```\n",
    "#### Answers:\n",
    "```\n",
    "1. Regularization\n",
    "2. When Ads show a lot of times, 'likelihood' tends to `ad_likelihood['sum'] / ad_likelihood['count']`\n",
    "3. When Ads show few times, 'likelihood' tends to mean of all ads;\n",
    "```"
   ]
  },
  {
   "cell_type": "code",
   "execution_count": 1,
   "metadata": {},
   "outputs": [],
   "source": [
    "import pandas as pd\n",
    "import numpy as np\n",
    "\n",
    "dtypes = {'ad_id': np.float32, 'clicked': np.int8}\n",
    "\n",
    "train = pd.read_csv(\"../data/unzip_data/clicks_train.csv\", usecols=['ad_id','clicked'], dtype=dtypes)\n",
    "\n",
    "ad_likelihood = train.groupby('ad_id').clicked.agg(['count','sum','mean']).reset_index()\n",
    "M = train.clicked.mean()\n",
    "del train\n",
    "\n",
    "ad_likelihood['likelihood'] = (ad_likelihood['sum'] + 12*M) / (12 + ad_likelihood['count'])\n",
    "\n",
    "test = pd.read_csv(\"../data/unzip_data/clicks_test.csv\")\n",
    "test = test.merge(ad_likelihood, how='left')\n",
    "test.likelihood.fillna(M, inplace=True)\n",
    "\n",
    "test.sort_values(['display_id','likelihood'], inplace=True, ascending=False)\n",
    "subm = test.groupby('display_id').ad_id.apply(lambda x: \" \".join(map(str,x))).reset_index()\n",
    "subm.to_csv(\"subm.csv\", index=False)"
   ]
  },
  {
   "cell_type": "code",
   "execution_count": 4,
   "metadata": {},
   "outputs": [
    {
     "name": "stdout",
     "output_type": "stream",
     "text": [
      "Successfully submitted to Outbrain Click Prediction"
     ]
    }
   ],
   "source": [
    "%%bash\n",
    "kaggle competitions submit -c outbrain-click-prediction -f subm.csv -m \"init submission: pandas is cool! LB: 0.63714\""
   ]
  },
  {
   "cell_type": "markdown",
   "metadata": {},
   "source": [
    "## Further Study\n",
    "\n",
    "1. This method can be taken as one way of feature engineering to get parameter `likelihood`\n",
    "2. It provides one useful way to handle mean value:\n",
    "    - high frequency: tends to the original value\n",
    "    - low frequency: tends to the global mean value\n",
    "    - none : use the global mean value as the default \n",
    "3. We learn the command line method to commit results.     "
   ]
  },
  {
   "cell_type": "code",
   "execution_count": 12,
   "metadata": {},
   "outputs": [
    {
     "data": {
      "image/png": "[encoded data removed]",
      "text/plain": [
       "<matplotlib.figure.Figure at 0x7fa6124075c0>"
      ]
     },
     "metadata": {},
     "output_type": "display_data"
    }
   ],
   "source": [
    "import matplotlib.pyplot as plt\n",
    "ad_likelihood['count'].hist()\n",
    "plt.show()"
   ]
  },
  {
   "cell_type": "code",
   "execution_count": null,
   "metadata": {},
   "outputs": [],
   "source": []
  }
 ],
 "metadata": {
  "kernelspec": {
   "display_name": "Python 3",
   "language": "python",
   "name": "python3"
  },
  "language_info": {
   "codemirror_mode": {
    "name": "ipython",
    "version": 3
   },
   "file_extension": ".py",
   "mimetype": "text/x-python",
   "name": "python",
   "nbconvert_exporter": "python",
   "pygments_lexer": "ipython3",
   "version": "3.6.0"
  }
 },
 "nbformat": 4,
 "nbformat_minor": 2
}
